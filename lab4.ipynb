{
 "cells": [
  {
   "cell_type": "code",
   "execution_count": null,
   "metadata": {},
   "outputs": [],
   "source": [
    "import torch\n",
    "import torch.nn as nn\n",
    "import torchvision\n",
    "from torchvision import datasets\n",
    "\n",
    "import torchvision.transforms as transforms\n",
    "\n",
    "import matplotlib.pyplot as plt\n",
    "import numpy as np\n",
    "from torchsummary import summary\n",
    "from torchvision import models\n",
    "\n",
    "\n",
    "# There were issues with my certificate when downloading git cherry-pick <commit-hash>\n",
    "import ssl\n",
    "import certifi\n",
    "\n",
    "ssl._create_default_https_context = lambda: ssl.create_default_context(cafile=certifi.where())\n"
   ]
  },
  {
   "cell_type": "code",
   "execution_count": 22,
   "metadata": {},
   "outputs": [
    {
     "name": "stdout",
     "output_type": "stream",
     "text": [
      "Files already downloaded and verified\n",
      "Files already downloaded and verified\n"
     ]
    }
   ],
   "source": [
    "transform = transforms.Compose([transforms.ToTensor(), transforms.Normalize((0.5, 0.5, 0.5), (0.5,0.5,0.5))])\n",
    "\n",
    "batch_size = 4 # In the powerpoint slides it is 32?\n",
    "\n",
    "trainset = torchvision.datasets.CIFAR10(root='./data', train=True, download=True, transform=transform)\n",
    "\n",
    "trainloader = torch.utils.data.DataLoader(trainset, batch_size=batch_size, shuffle=True, num_workers=2)\n",
    "\n",
    "testset = torchvision.datasets.CIFAR10(root='./data', train=False, download=True, transform=transform)\n",
    "testloader = torch.utils.data.DataLoader(testset, batch_size=batch_size, shuffle=False, num_workers=2)\n",
    "\n",
    "classes = ('plane', 'car', 'bird', 'cat', 'deer', 'dog', 'frog', 'horse', 'ship', 'truck')"
   ]
  },
  {
   "cell_type": "code",
   "execution_count": 23,
   "metadata": {},
   "outputs": [
    {
     "data": {
      "image/png": "[encoded data removed]",
      "text/plain": [
       "<Figure size 640x480 with 1 Axes>"
      ]
     },
     "metadata": {},
     "output_type": "display_data"
    },
    {
     "name": "stdout",
     "output_type": "stream",
     "text": [
      "deer  dog   cat   dog  \n"
     ]
    }
   ],
   "source": [
    "#functions to show an image\n",
    "def imshow(img):\n",
    "\timg = img / 2 + 0.5 # unnormalize\n",
    "\tnpimg = img.numpy()\n",
    "\tplt.imshow(np.transpose(npimg, (1,2,0)))\n",
    "\tplt.show()\n",
    "\n",
    "\n",
    "#get random training images\n",
    "dataiter = iter(trainloader)\n",
    "images, labels = next(dataiter)\n",
    "\n",
    "# show images\n",
    "imshow(torchvision.utils.make_grid(images))\n",
    "\n",
    "# print labels\n",
    "print(' '.join(f'{classes[labels[j]]:5s}' for j in range(batch_size)))\n"
   ]
  },
  {
   "cell_type": "code",
   "execution_count": null,
   "metadata": {},
   "outputs": [],
   "source": []
  },
  {
   "cell_type": "markdown",
   "metadata": {},
   "source": [
    "## Define CNNs\n",
    "We will be experimenting"
   ]
  },
  {
   "cell_type": "code",
   "execution_count": null,
   "metadata": {},
   "outputs": [
    {
     "name": "stdout",
     "output_type": "stream",
     "text": [
      "----------------------------------------------------------------\n",
      "        Layer (type)               Output Shape         Param #\n",
      "================================================================\n",
      "            Conv2d-1          [4, 64, 224, 224]           1,792\n",
      "              ReLU-2          [4, 64, 224, 224]               0\n",
      "            Conv2d-3          [4, 64, 224, 224]          36,928\n",
      "              ReLU-4          [4, 64, 224, 224]               0\n",
      "         MaxPool2d-5          [4, 64, 112, 112]               0\n",
      "            Conv2d-6         [4, 128, 112, 112]          73,856\n",
      "              ReLU-7         [4, 128, 112, 112]               0\n",
      "            Conv2d-8         [4, 128, 112, 112]         147,584\n",
      "              ReLU-9         [4, 128, 112, 112]               0\n",
      "        MaxPool2d-10           [4, 128, 56, 56]               0\n",
      "           Conv2d-11           [4, 256, 56, 56]         295,168\n",
      "             ReLU-12           [4, 256, 56, 56]               0\n",
      "           Conv2d-13           [4, 256, 56, 56]         590,080\n",
      "             ReLU-14           [4, 256, 56, 56]               0\n",
      "           Conv2d-15           [4, 256, 56, 56]         590,080\n",
      "             ReLU-16           [4, 256, 56, 56]               0\n",
      "        MaxPool2d-17           [4, 256, 28, 28]               0\n",
      "           Conv2d-18           [4, 512, 28, 28]       1,180,160\n",
      "             ReLU-19           [4, 512, 28, 28]               0\n",
      "           Conv2d-20           [4, 512, 28, 28]       2,359,808\n",
      "             ReLU-21           [4, 512, 28, 28]               0\n",
      "           Conv2d-22           [4, 512, 28, 28]       2,359,808\n",
      "             ReLU-23           [4, 512, 28, 28]               0\n",
      "        MaxPool2d-24           [4, 512, 14, 14]               0\n",
      "           Conv2d-25           [4, 512, 14, 14]       2,359,808\n",
      "             ReLU-26           [4, 512, 14, 14]               0\n",
      "           Conv2d-27           [4, 512, 14, 14]       2,359,808\n",
      "             ReLU-28           [4, 512, 14, 14]               0\n",
      "           Conv2d-29           [4, 512, 14, 14]       2,359,808\n",
      "             ReLU-30           [4, 512, 14, 14]               0\n",
      "        MaxPool2d-31             [4, 512, 7, 7]               0\n",
      "AdaptiveAvgPool2d-32             [4, 512, 7, 7]               0\n",
      "           Linear-33                  [4, 4096]     102,764,544\n",
      "             ReLU-34                  [4, 4096]               0\n",
      "          Dropout-35                  [4, 4096]               0\n",
      "           Linear-36                  [4, 4096]      16,781,312\n",
      "             ReLU-37                  [4, 4096]               0\n",
      "          Dropout-38                  [4, 4096]               0\n",
      "           Linear-39                  [4, 1000]       4,097,000\n",
      "================================================================\n",
      "Total params: 138,357,544\n",
      "Trainable params: 138,357,544\n",
      "Non-trainable params: 0\n",
      "----------------------------------------------------------------\n",
      "Input size (MB): 2.30\n",
      "Forward/backward pass size (MB): 875.12\n",
      "Params size (MB): 527.79\n",
      "Estimated Total Size (MB): 1405.21\n",
      "----------------------------------------------------------------\n"
     ]
    }
   ],
   "source": [
    "def get_device():\n",
    "\tif torch.cuda.is_available():\n",
    "\t\treturn torch. device ('cuda' )\n",
    "\telif torch.backends.mps.is_available():\n",
    "\t\treturn torch.device ('mps')\n",
    "\telse:\n",
    "\t\treturn torch.device('cpu')\n",
    "\t\n",
    "device = get_device()\t\n",
    "model = models.vgg16().to(device)\n",
    "\n",
    "\n",
    "# summary(model.to(device), (3, 224, 224))\n",
    "\n",
    "def better_summary(model, input_size, batch_size=batch_size):\n",
    "\t\"\"\"A better \n",
    "\tsummary function that ensures device consistency between weights used for the VGG model\"\"\"\n",
    "\t# Get the device the model is on\n",
    "\tmodel_on_cpu = model.to('cpu')\n",
    "\tsummary(model_on_cpu, input_size, batch_size=batch_size)\n",
    "\t# Move model back to original device\n",
    "\tmodel.to(device)\n",
    "\n",
    "better_summary(model, (3, 224, 224))"
   ]
  },
  {
   "cell_type": "markdown",
   "metadata": {},
   "source": [
    "## Define a MLP"
   ]
  }
 ],
 "metadata": {
  "kernelspec": {
   "display_name": "Python 3",
   "language": "python",
   "name": "python3"
  },
  "language_info": {
   "codemirror_mode": {
    "name": "ipython",
    "version": 3
   },
   "file_extension": ".py",
   "mimetype": "text/x-python",
   "name": "python",
   "nbconvert_exporter": "python",
   "pygments_lexer": "ipython3",
   "version": "3.11.5"
  }
 },
 "nbformat": 4,
 "nbformat_minor": 2
}
