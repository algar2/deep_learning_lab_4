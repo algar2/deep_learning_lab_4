{
 "cells": [
  {
   "cell_type": "code",
   "execution_count": 4,
   "metadata": {},
   "outputs": [
    {
     "name": "stderr",
     "output_type": "stream",
     "text": [
      "/Users/lexele/Library/Python/3.11/lib/python/site-packages/tqdm/auto.py:21: TqdmWarning: IProgress not found. Please update jupyter and ipywidgets. See https://ipywidgets.readthedocs.io/en/stable/user_install.html\n",
      "  from .autonotebook import tqdm as notebook_tqdm\n"
     ]
    }
   ],
   "source": [
    "import torch\n",
    "import torch.nn as nn\n",
    "import torchvision\n",
    "from torchvision import datasets\n",
    "from torch.nn import ReLU\n",
    "import torchvision.transforms as transforms\n",
    "from torch.utils.data import DataLoader, Subset\n",
    "import matplotlib.pyplot as plt\n",
    "import numpy as np\n",
    "from torchsummary import summary\n",
    "from torchvision import models\n",
    "\n",
    "\n",
    "\n",
    "\n",
    "# There were issues with my certificate\n",
    "import ssl\n",
    "import certifi\n",
    "\n",
    "ssl._create_default_https_context = lambda: ssl.create_default_context(cafile=certifi.where())\n"
   ]
  },
  {
   "cell_type": "markdown",
   "metadata": {},
   "source": [
    "### Dataset Loading and Data Processing\n",
    "Here we load the CIFAR10 dataset"
   ]
  },
  {
   "cell_type": "markdown",
   "metadata": {},
   "source": []
  },
  {
   "cell_type": "code",
   "execution_count": 1,
   "metadata": {},
   "outputs": [],
   "source": [
    "# transform = transforms.Compose([transforms.ToTensor(), transforms.Normalize((0.5, 0.5, 0.5), (0.5,0.5,0.5))])\n",
    "\n",
    "# batch_size = 4 # In the powerpoint slides it is 32?\n",
    "\n",
    "# trainset = torchvision.datasets.CIFAR10(root='./data', train=True, download=True, transform=transform)\n",
    "\n",
    "# trainloader = torch.utils.data.DataLoader(trainset, batch_size=batch_size, shuffle=True, num_workers=2)\n",
    "\n",
    "# testset = torchvision.datasets.CIFAR10(root='./data', train=False, download=True, transform=transform)\n",
    "# testloader = torch.utils.data.DataLoader(testset, batch_size=batch_size, shuffle=False, num_workers=2)\n",
    "\n",
    "# classes = ('plane', 'car', 'bird', 'cat', 'deer', 'dog', 'frog', 'horse', 'ship', 'truck')"
   ]
  },
  {
   "cell_type": "code",
   "execution_count": 2,
   "metadata": {},
   "outputs": [],
   "source": [
    "# #functions to show an image\n",
    "# def imshow(img):\n",
    "# \timg = img / 2 + 0.5 # unnormalize\n",
    "# \tnpimg = img.numpy()\n",
    "# \tplt.imshow(np.transpose(npimg, (1,2,0)))\n",
    "# \tplt.show()\n",
    "\n",
    "\n",
    "# #get random training images\n",
    "# dataiter = iter(trainloader)\n",
    "# images, labels = next(dataiter)\n",
    "\n",
    "# # show images\n",
    "# imshow(torchvision.utils.make_grid(images))\n",
    "\n",
    "# # print labels\n",
    "# print(' '.join(f'{classes[labels[j]]:5s}' for j in range(batch_size)))\n"
   ]
  },
  {
   "cell_type": "markdown",
   "metadata": {},
   "source": []
  },
  {
   "cell_type": "code",
   "execution_count": 3,
   "metadata": {},
   "outputs": [
    {
     "ename": "NameError",
     "evalue": "name 'torch' is not defined",
     "output_type": "error",
     "traceback": [
      "\u001b[0;31m---------------------------------------------------------------------------\u001b[0m",
      "\u001b[0;31mNameError\u001b[0m                                 Traceback (most recent call last)",
      "Cell \u001b[0;32mIn[3], line 9\u001b[0m\n\u001b[1;32m      6\u001b[0m \t\u001b[38;5;28;01melse\u001b[39;00m:\n\u001b[1;32m      7\u001b[0m \t\t\u001b[38;5;28;01mreturn\u001b[39;00m torch\u001b[38;5;241m.\u001b[39mdevice(\u001b[38;5;124m'\u001b[39m\u001b[38;5;124mcpu\u001b[39m\u001b[38;5;124m'\u001b[39m)\n\u001b[0;32m----> 9\u001b[0m device \u001b[38;5;241m=\u001b[39m \u001b[43mget_device\u001b[49m\u001b[43m(\u001b[49m\u001b[43m)\u001b[49m\t\n\u001b[1;32m     12\u001b[0m \u001b[38;5;28;01mdef\u001b[39;00m\u001b[38;5;250m \u001b[39m\u001b[38;5;21mpreprocess_data\u001b[39m(transformations, batch_size, subset_size\u001b[38;5;241m=\u001b[39m\u001b[38;5;241m24000\u001b[39m):\n\u001b[1;32m     13\u001b[0m \u001b[38;5;250m\t\u001b[39m\u001b[38;5;124;03m\"\"\"\u001b[39;00m\n\u001b[1;32m     14\u001b[0m \u001b[38;5;124;03m\tThis function creates dataloaders with model-specific transformations for data preprocessing\u001b[39;00m\n\u001b[1;32m     15\u001b[0m \u001b[38;5;124;03m\t\"\"\"\u001b[39;00m\n",
      "Cell \u001b[0;32mIn[3], line 2\u001b[0m, in \u001b[0;36mget_device\u001b[0;34m()\u001b[0m\n\u001b[1;32m      1\u001b[0m \u001b[38;5;28;01mdef\u001b[39;00m\u001b[38;5;250m \u001b[39m\u001b[38;5;21mget_device\u001b[39m():\n\u001b[0;32m----> 2\u001b[0m \t\u001b[38;5;28;01mif\u001b[39;00m \u001b[43mtorch\u001b[49m\u001b[38;5;241m.\u001b[39mcuda\u001b[38;5;241m.\u001b[39mis_available():\n\u001b[1;32m      3\u001b[0m \t\t\u001b[38;5;28;01mreturn\u001b[39;00m torch\u001b[38;5;241m.\u001b[39mdevice (\u001b[38;5;124m'\u001b[39m\u001b[38;5;124mcuda\u001b[39m\u001b[38;5;124m'\u001b[39m )\n\u001b[1;32m      4\u001b[0m \t\u001b[38;5;28;01melif\u001b[39;00m torch\u001b[38;5;241m.\u001b[39mbackends\u001b[38;5;241m.\u001b[39mmps\u001b[38;5;241m.\u001b[39mis_available():\n",
      "\u001b[0;31mNameError\u001b[0m: name 'torch' is not defined"
     ]
    }
   ],
   "source": [
    "def get_device():\n",
    "\tif torch.cuda.is_available():\n",
    "\t\treturn torch.device ('cuda' )\n",
    "\telif torch.backends.mps.is_available():\n",
    "\t\treturn torch.device ('mps')\n",
    "\telse:\n",
    "\t\treturn torch.device('cpu')\n",
    "\t\n",
    "device = get_device()\t\n",
    "\n",
    "\n",
    "def preprocess_data(transformations, batch_size, subset_size=24000):\n",
    "\t\"\"\"\n",
    "\tThis function creates dataloaders with model-specific transformations for data preprocessing\n",
    "\t\"\"\"\n",
    "\t# Load the full training dataset\n",
    "\tfull_train_set = torchvision.datasets.CIFAR10(\n",
    "\t\troot='./data', \n",
    "\t\ttrain=True, \n",
    "\t\tdownload=True, \n",
    "\t\ttransform=transformations\n",
    "\t)\t\n",
    "\n",
    "\t# Creating a subset of the training data\n",
    "\tif subset_size and subset_size < len(full_train_set):\n",
    "\t\t# Creates a random subset\n",
    "\t\tindices = torch.randperm(len(full_train_set))[:subset_size]\n",
    "\t\ttrain_dataset = Subset(full_train_set,indices)\n",
    "\telse:\n",
    "\t\ttrain_dataset = full_train_set\n",
    "\n",
    "\ttrain_loader = DataLoader(train_dataset, batch_size=batch_size, shuffle=True)\n",
    "\ttest_set = torchvision.datasets.CIFAR10(root='./data', train=False, download=True, transform=transformations)\n",
    "\ttest_loader = DataLoader(test_set, batch_size=batch_size, shuffle=False)\n",
    "\n",
    "\t# Should we return train_set and test_loader too?\n",
    "\treturn train_loader, test_loader"
   ]
  },
  {
   "cell_type": "markdown",
   "metadata": {},
   "source": []
  },
  {
   "cell_type": "markdown",
   "metadata": {},
   "source": [
    "### Defining our CNNs\n",
    "***\n",
    "We will be experimenting with various pre-trained Deep CNNs - specifically ResNet and VGG architectures.\n",
    "\n",
    "We will be using 2 different versions of Resnet and 2 different versions of VGG. We use weights `ResNet_Weights.DEFAULT` for our pretrained model.\n",
    "\n",
    "VGG: We will be using models `vgg11` , `vgg11_bn` (with batch normalization), `vgg19`, `vgg19_bn`\n",
    "\n",
    "RESNET: We will be using `resnet18` (ResNet-18) and `resnet152` (ResNet-152)\n",
    "\n",
    "** apply its specific preprocessing transformations to  CIFAR-10 dataset when creating DataLoader objects. **\n",
    "\n",
    "For each model we use, we will:\n",
    "1. Import, insantiate, and load it with default, pretrained weights\n",
    "2. Get the correct preprocessing transformations for that specific model\n",
    "3. Apply those transformations to our CIFAR10 dataset\n",
    "4. Modify the classifer part of the model for our 10-class classification task.\n",
    "-> this means that we need to freeze the ConvLayer(s) parts of the network, and modify the last couple layers -- follow Lecture 9 examples.\n"
   ]
  },
  {
   "cell_type": "code",
   "execution_count": null,
   "metadata": {},
   "outputs": [],
   "source": [
    "# model = models.vgg16().to(device)\n",
    "\n",
    "\n",
    "# summary(model.to(device), (3, 224, 224))\n",
    "\n",
    "def better_summary(model, input_size, batch_size=32):\n",
    "\t\"\"\"\n",
    "\tA better summary function that ensures device consistency between weights used for the VGG model\n",
    "\t\"\"\"\n",
    "\t\n",
    "\t# Get the device the model is on\n",
    "\tmodel_on_cpu = model.to('cpu')\n",
    "\tsummary(model_on_cpu, input_size, batch_size=batch_size)\n",
    "\t# Move model back to original device\n",
    "\tmodel.to(device)\n",
    "\n",
    "# better_summary(model, (3, 224, 224))"
   ]
  },
  {
   "cell_type": "code",
   "execution_count": null,
   "metadata": {},
   "outputs": [
    {
     "name": "stdout",
     "output_type": "stream",
     "text": [
      "Files already downloaded and verified\n",
      "Files already downloaded and verified\n",
      "Files already downloaded and verified\n",
      "Files already downloaded and verified\n",
      "Files already downloaded and verified\n",
      "Files already downloaded and verified\n",
      "Files already downloaded and verified\n",
      "Files already downloaded and verified\n"
     ]
    }
   ],
   "source": [
    "from torchvision.models import resnet18, resnet152, ResNet18_Weights, ResNet152_Weights\n",
    "from torchvision.models import vgg11, vgg11_bn, vgg19, vgg19_bn, VGG11_Weights, VGG19_Weights\n",
    "\n",
    "batch_size = 32\n",
    "# Load ResNet models with pretrained weights\n",
    "resnet18_model = resnet18(weights=ResNet18_Weights.DEFAULT)\n",
    "resnet152_model = resnet152(weights=ResNet152_Weights.DEFAULT)\n",
    "\n",
    "# Load VGG models with pretrained weights for transfer learning\n",
    "vgg11_model = vgg11(weights=VGG11_Weights.DEFAULT)\n",
    "vgg19_model = vgg19(weights=VGG19_Weights.DEFAULT)\n",
    "\n",
    "# Get transformations for every model\n",
    "resnet18_transforms = ResNet18_Weights.DEFAULT.transforms()\n",
    "resnet152_transforms = ResNet152_Weights.DEFAULT.transforms()\n",
    "vgg11_transforms = VGG11_Weights.DEFAULT.transforms()\n",
    "vgg19_transforms = VGG19_Weights.DEFAULT.transforms()\n",
    "\n",
    "\n",
    "# Create dataloaders for each model with its specific transforms\n",
    "resnet18_train_loader, resnet18_test_loader = preprocess_data(resnet18_transforms, batch_size=batch_size)\n",
    "resnet152_train_loader, resnet152_test_loader = preprocess_data(resnet152_transforms, batch_size=batch_size)\n",
    "vgg11_train_loader, vgg11_test_loader = preprocess_data(vgg11_transforms, batch_size=batch_size)\n",
    "vgg19_train_loader, vgg19_test_loader = preprocess_data(vgg19_transforms, batch_size=batch_size) \n",
    "list_of_transformations = [resnet18_transforms, resnet152_transforms, vgg11_transforms, vgg19_transforms]\n",
    "\n",
    "\n",
    "\n",
    "\n",
    "\t\n"
   ]
  },
  {
   "cell_type": "markdown",
   "metadata": {},
   "source": [
    "### Training, Experimentation and Transfer Learning\n",
    "\n",
    "\n",
    "Doing transfer learning on ResNet is slightly different from VGG (the layers don't have the same names), so we print the networks to know which layers to freeze."
   ]
  },
  {
   "cell_type": "code",
   "execution_count": null,
   "metadata": {},
   "outputs": [],
   "source": [
    "import timeit\n",
    "\n",
    "\n",
    "\n",
    "def train_batch(model, opt, loss_fn, x, y):\n",
    "\tmodel.train()\n",
    "\t\n",
    "\topt.zero_grad()\n",
    "\tbatch_loss = loss_fn(model(x.to(device)), y.to(device)) # Loss\n",
    "\tbatch_loss.backward() # Compute gradients\n",
    "\topt.step() # Make a GD step\n",
    "\n",
    "\treturn batch_loss.detach().cpu().numpy()\n",
    "\n",
    "@torch.no_grad()\n",
    "def accuracy(model, x, y,):\n",
    "\tmodel.eval()\n",
    "\tprediction = model(x.to(device))\n",
    "\targmaxes = prediction.argmax(dim=1)\n",
    "\ts = torch.sum((argmaxes == y).float()/len(y))\n",
    "\treturn s.cpu().numpy()\n",
    "\n",
    "def perform_training(model, train_dataloader, opt, loss):\n",
    "\t\"\"\"\n",
    "\tTrain the model and evaluate \n",
    "\t\"\"\"\n",
    "\ttrain_losses, train_accuracies, n_epochs = [], [], 5\n",
    "\n",
    "\tstart_time = timeit.default_timer()\n",
    "\tfor epoch in range(n_epochs):\n",
    "\t\tprint(f\"Running epoch {epoch + 1} of {n_epochs}\")\n",
    "\n",
    "\t\ttrain_epoch_losses, train_epoch_accuracies = [], []\n",
    "\t\t\n",
    "\t\tfor x, y in train_dataloader:\n",
    "\t\t\tx,y = x.to(device), y.to(device)\n",
    "\t\t\ttrain_epoch_losses = train_batch(model, opt, loss, x, y)\n",
    "\t\t\ttrain_epoch_accuracies = accuracy(model, x, y)\n",
    "\n",
    "\t\t# train_epoch_loss = \n",
    "\n",
    "\t\t# train_epoch_losses = [train_batch(model, optimizer, loss_fn, x=x.to(device), y=y.to(device)) for x, y in train_dataloader]\n",
    "\t\ttrain_epoch_loss = np.mean(train_epoch_losses)\n",
    "\n",
    "\t\t\n",
    "\t\t# train_epoch_accuracies = [accuracy(model, x=x.to(device), y=y.to(device)) for x, y in train_dataloader]\n",
    "\t\ttrain_epoch_accuracy = np.mean(train_epoch_accuracies)\n",
    "\n",
    "\t\ttrain_losses.append(train_epoch_loss)\n",
    "\t\ttrain_accuracies.append(train_epoch_accuracy)\n",
    "\t\n",
    "\tend_time = timeit.default_timer()\n",
    "\tfull_training_time = end_time - start_time\n",
    "\t\n",
    "\treturn train_losses, train_accuracies, full_training_time\n",
    "\t\n"
   ]
  },
  {
   "cell_type": "code",
   "execution_count": null,
   "metadata": {},
   "outputs": [],
   "source": []
  },
  {
   "cell_type": "code",
   "execution_count": null,
   "metadata": {},
   "outputs": [
    {
     "name": "stdout",
     "output_type": "stream",
     "text": [
      "Running epoch 1 of 5\n",
      "Running epoch 2 of 5\n",
      "Running epoch 3 of 5\n",
      "Running epoch 4 of 5\n"
     ]
    }
   ],
   "source": [
    "import matplotlib.pyplot as plt\n",
    "\n",
    "\n",
    "\n",
    "models = [vgg11_model, vgg19_model]\n",
    "train_dataloaders = [vgg11_train_loader, vgg19_train_loader]\n",
    "test_dataloaders = [vgg11_test_loader, vgg19_test_loader]\n",
    "\n",
    "for model in models:\n",
    "\tmodel = model.to(device)\n",
    "\t\n",
    "\tloss_fn = nn.CrossEntropyLoss()\n",
    "\toptimizer = torch.optim.Adam(model.parameters(), lr=1e-3)\n",
    "\t# better_summary(model.to(device), (3, 224, 224))\n",
    "\t# print(model)\n",
    "\tfor param in model.features.parameters():\n",
    "\t\tparam.requires_grad = False # Freezing these layers\n",
    "\n",
    "\tmodel.avgpool = nn.AdaptiveAvgPool2d(output_size=(1,1))\n",
    "\tmodel.classifier = nn.Sequential(nn.Flatten(),\n",
    "\t\t\t\t\t\t\t\t  \tnn.Linear(512, 128),\n",
    "\t\t\t\t\t\t\t\t\tnn.ReLU(), # Activation between linear layers\n",
    "\t\t\t\t\t\t\t\t\tnn.Dropout(0.2),\n",
    "\t\t\t\t\t\t\t\t \tnn.Linear(128, 10)\n",
    "\t\t\t\t\t\t\t\t).to(device)\n",
    "\t\n",
    "\t# better_summary(model.to(device), (3, 224, 224))\n",
    "\n",
    "# for model in models:\n",
    "# \t# Ensure on same device\n",
    "# \tmodel = model.to(device)\n",
    "# \toptimizer = torch.optim.Adam(model.parameters(), lr=1e-3)\n",
    "\tfor x in range(len(train_dataloaders)):\n",
    "\t\ttrain_losses, train_accuracies, train_time = perform_training(model, train_dataloaders[x], opt=optimizer, loss=loss_fn)\n",
    "\t\tn_epochs = 5\n",
    "\t\t# After training is complete see model accuarcy \n",
    "\t\tmodel.eval() \n",
    "\t\ttest_accuracies = []\n",
    "\t\twith torch.no_grad():\n",
    "\t\t\tfor x, y in test_dataloaders[x]:\n",
    "\t\t\t\tx, y = x.to(device), y.to(device)\n",
    "\t\t\t\tacc = accuracy(model, x, y)\n",
    "\t\t\t\ttest_accuracies.append(acc)\n",
    "\t\ttest_accuracy = np.mean(test_accuracies)\n",
    "\t\tprint(f\"Final test accuracy: {test_accuracy:.4f}\")\n",
    "\t\tplt.figure(figsize=(13,3))\n",
    "\t\tplt.subplot(121)\n",
    "\t\tplt.title('Training Loss value over epochs')\n",
    "\t\tplt.plot(np.arange(n_epochs) + 1, train_losses)\n",
    "\t\tplt.subplot(122)\n",
    "\t\tplt.title('Testing Accuracy value over epochs')\n",
    "\t\tplt.plot(np.arange(n_epochs) + 1, train_accuracies)\n",
    "\n",
    "\n",
    "for loss in train_losses:\n",
    "\tprint(loss)\n",
    "\n",
    "\n"
   ]
  },
  {
   "cell_type": "code",
   "execution_count": null,
   "metadata": {},
   "outputs": [
    {
     "name": "stdout",
     "output_type": "stream",
     "text": [
      "features\n",
      "avgpool\n",
      "classifier\n",
      "Running epoch 1 of 5\n",
      "Running epoch 2 of 5\n",
      "Running epoch 3 of 5\n",
      "Running epoch 4 of 5\n",
      "Running epoch 5 of 5\n",
      "Final test accuracy: 0.8036\n",
      "Running epoch 1 of 5\n"
     ]
    },
    {
     "ename": "KeyboardInterrupt",
     "evalue": "",
     "output_type": "error",
     "traceback": [
      "\u001b[0;31m---------------------------------------------------------------------------\u001b[0m",
      "\u001b[0;31mKeyboardInterrupt\u001b[0m                         Traceback (most recent call last)",
      "Cell \u001b[0;32mIn[106], line 37\u001b[0m\n\u001b[1;32m     35\u001b[0m optimizer \u001b[38;5;241m=\u001b[39m torch\u001b[38;5;241m.\u001b[39moptim\u001b[38;5;241m.\u001b[39mAdam(curr_model\u001b[38;5;241m.\u001b[39mparameters(), lr\u001b[38;5;241m=\u001b[39m\u001b[38;5;241m1e-3\u001b[39m)\n\u001b[1;32m     36\u001b[0m \u001b[38;5;28;01mfor\u001b[39;00m x \u001b[38;5;129;01min\u001b[39;00m \u001b[38;5;28mrange\u001b[39m(\u001b[38;5;28mlen\u001b[39m(resnet_trainloads)):\n\u001b[0;32m---> 37\u001b[0m \ttrain_losses, train_accuracies, train_time \u001b[38;5;241m=\u001b[39m \u001b[43mperform_training\u001b[49m\u001b[43m(\u001b[49m\u001b[43mcurr_model\u001b[49m\u001b[43m,\u001b[49m\u001b[43m \u001b[49m\u001b[43mresnet_trainloads\u001b[49m\u001b[43m[\u001b[49m\u001b[43mx\u001b[49m\u001b[43m]\u001b[49m\u001b[43m)\u001b[49m\n\u001b[1;32m     38\u001b[0m \tn_epochs \u001b[38;5;241m=\u001b[39m \u001b[38;5;241m5\u001b[39m\n\u001b[1;32m     40\u001b[0m \t\u001b[38;5;66;03m# After training is complete see model accuarcy \u001b[39;00m\n",
      "Cell \u001b[0;32mIn[102], line 38\u001b[0m, in \u001b[0;36mperform_training\u001b[0;34m(model, train_dataloader)\u001b[0m\n\u001b[1;32m     36\u001b[0m \u001b[38;5;28;01mfor\u001b[39;00m x, y \u001b[38;5;129;01min\u001b[39;00m train_dataloader:\n\u001b[1;32m     37\u001b[0m \tx,y \u001b[38;5;241m=\u001b[39m x\u001b[38;5;241m.\u001b[39mto(device), y\u001b[38;5;241m.\u001b[39mto(device)\n\u001b[0;32m---> 38\u001b[0m \ttrain_epoch_losses \u001b[38;5;241m=\u001b[39m \u001b[43mtrain_batch\u001b[49m\u001b[43m(\u001b[49m\u001b[43mmodel\u001b[49m\u001b[43m,\u001b[49m\u001b[43m \u001b[49m\u001b[43moptimizer\u001b[49m\u001b[43m,\u001b[49m\u001b[43m \u001b[49m\u001b[43mloss_fn\u001b[49m\u001b[43m,\u001b[49m\u001b[43m \u001b[49m\u001b[43mx\u001b[49m\u001b[43m,\u001b[49m\u001b[43m \u001b[49m\u001b[43my\u001b[49m\u001b[43m)\u001b[49m\n\u001b[1;32m     39\u001b[0m \ttrain_epoch_accuracies \u001b[38;5;241m=\u001b[39m accuracy(model, x, y)\n\u001b[1;32m     41\u001b[0m \u001b[38;5;66;03m# train_epoch_loss = \u001b[39;00m\n\u001b[1;32m     42\u001b[0m \n\u001b[1;32m     43\u001b[0m \u001b[38;5;66;03m# train_epoch_losses = [train_batch(model, optimizer, loss_fn, x=x.to(device), y=y.to(device)) for x, y in train_dataloader]\u001b[39;00m\n",
      "Cell \u001b[0;32mIn[102], line 14\u001b[0m, in \u001b[0;36mtrain_batch\u001b[0;34m(model, opt, loss_fn, x, y)\u001b[0m\n\u001b[1;32m     11\u001b[0m batch_loss\u001b[38;5;241m.\u001b[39mbackward() \u001b[38;5;66;03m# Compute gradients\u001b[39;00m\n\u001b[1;32m     12\u001b[0m opt\u001b[38;5;241m.\u001b[39mstep() \u001b[38;5;66;03m# Make a GD step\u001b[39;00m\n\u001b[0;32m---> 14\u001b[0m \u001b[38;5;28;01mreturn\u001b[39;00m \u001b[43mbatch_loss\u001b[49m\u001b[38;5;241;43m.\u001b[39;49m\u001b[43mdetach\u001b[49m\u001b[43m(\u001b[49m\u001b[43m)\u001b[49m\u001b[38;5;241;43m.\u001b[39;49m\u001b[43mcpu\u001b[49m\u001b[43m(\u001b[49m\u001b[43m)\u001b[49m\u001b[38;5;241m.\u001b[39mnumpy()\n",
      "\u001b[0;31mKeyboardInterrupt\u001b[0m: "
     ]
    },
    {
     "data": {
      "image/png": "[encoded data removed]",
      "text/plain": [
       "<Figure size 1300x300 with 2 Axes>"
      ]
     },
     "metadata": {},
     "output_type": "display_data"
    }
   ],
   "source": [
    "# Resnet\n",
    "resnet_models = [resnet18_model, resnet152_model]\n",
    "resnet_trainloads = [resnet18_train_loader, resnet152_train_loader]\n",
    "res_test = [resnet18_test_loader, resnet152_test_loader]\n",
    "\n",
    "\n",
    "for curr_model in resnet_models:\n",
    "\n",
    "\tcurr_model = curr_model.to(device)\n",
    "\tfor name, layer in model.named_children():\n",
    "\t\tprint(name)\n",
    "\n",
    "\t\tfor param in layer.parameters():\n",
    "\t\t\tparam.requires_grad = False\n",
    "\t\tif name == \"avgpool\":\n",
    "\t\t\tlayer = nn.AdaptiveAvgPool2d(output_size=(1,1))\n",
    "\t\t# Accessing the fully connected layer \n",
    "\t\tinput_features = curr_model.fc.in_features\n",
    "\t\tif name == 'fc':\n",
    "\t\t\tlayer = nn.Sequential(nn.Flatten(),\n",
    "\t\t\t\t\t\t\t\t\tnn.Linear(input_features, 128),\n",
    "\t\t\t\t\t\t\t\t\tnn.ReLU(), # Activation between linear layers\n",
    "\t\t\t\t\t\t\t\t\tnn.Dropout(0.2),\n",
    "\t\t\t\t\t\t\t\t\tnn.Linear(128, 10)\n",
    "\t\t\t\t\t\t\t\t).to(device)\n",
    "\t\t\n",
    "\t\t\n",
    "\t\t# print \n",
    "\n",
    "\t\t# model.fc = nn.Linear(num_features, 2)\n",
    "\t\n",
    "\t\t\n",
    "# print(better_summary(curr_model,(3, 224, 224)))\n",
    "\n",
    "\toptimizer = torch.optim.Adam(curr_model.parameters(), lr=1e-3)\n",
    "\tfor x in range(len(resnet_trainloads)):\n",
    "\t\ttrain_losses, train_accuracies, train_time = perform_training(curr_model, resnet_trainloads[x])\n",
    "\t\tn_epochs = 5\n",
    "\n",
    "\t\t# After training is complete see model accuarcy \n",
    "\t\tcurr_model.eval() \n",
    "\t\ttest_accuracies = []\n",
    "\n",
    "\t\twith torch.no_grad():\n",
    "\t\t\tfor x, y in res_test[x]:\n",
    "\t\t\t\tx, y = x.to(device), y.to(device)\n",
    "\t\t\t\tacc = accuracy(curr_model, x, y)\n",
    "\t\t\t\ttest_accuracies.append(acc)\n",
    "\t\ttest_accuracy = np.mean(test_accuracies)\n",
    "\n",
    "\t\t\n",
    "\t\tprint(f\"Final test accuracy: {test_accuracy:.4f}\")\n",
    "\t\tplt.figure(figsize=(13,3))\n",
    "\t\tplt.subplot(121)\n",
    "\t\tplt.title('Training Loss value over epochs')\n",
    "\t\tplt.plot(np.arange(n_epochs) + 1, train_losses)\n",
    "\t\tplt.subplot(122)\n",
    "\t\tplt.title('Testing Accuracy value over epochs')\n",
    "\t\tplt.plot(np.arange(n_epochs) + 1, train_accuracies)\n"
   ]
  },
  {
   "cell_type": "markdown",
   "metadata": {},
   "source": [
    "### Classifying Images\n",
    "<p>In this section we test our trained models on images from Google Images\n",
    "from 3 of CIFAR10's classes: airplane, cat, and frog<p>"
   ]
  },
  {
   "cell_type": "code",
   "execution_count": null,
   "metadata": {},
   "outputs": [],
   "source": []
  }
 ],
 "metadata": {
  "kernelspec": {
   "display_name": "Python 3",
   "language": "python",
   "name": "python3"
  },
  "language_info": {
   "codemirror_mode": {
    "name": "ipython",
    "version": 3
   },
   "file_extension": ".py",
   "mimetype": "text/x-python",
   "name": "python",
   "nbconvert_exporter": "python",
   "pygments_lexer": "ipython3",
   "version": "3.11.5"
  }
 },
 "nbformat": 4,
 "nbformat_minor": 2
}
